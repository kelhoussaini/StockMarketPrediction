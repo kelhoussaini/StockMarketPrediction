{
 "cells": [
  {
   "cell_type": "code",
   "execution_count": null,
   "id": "aa989465",
   "metadata": {},
   "outputs": [],
   "source": []
  },
  {
   "cell_type": "markdown",
   "id": "14129330",
   "metadata": {},
   "source": [
    "**Une série temporelle** peut être décomposée en 3 composantes.\n",
    "\n",
    "* **Tendance :** Mouvement de hausse et de baisse des données au cours du temps sur une longue période (par exemple le prix de l’immobilier)\n",
    "\n",
    "* **Saisonnalité :** Variance saisonnière (par exemple une augmentation de la demande de glace pendant l’été)\n",
    "\n",
    "* **Bruit :** Des pics et des creux à intervalles aléatoires"
   ]
  },
  {
   "cell_type": "markdown",
   "id": "108d8956",
   "metadata": {},
   "source": [
    "Avant de pouvoir construire et d’appliquer un modèle statistique sur une série temporelle, nous devons nous assurer qu’elle est **stationnaire.**\n",
    "\n",
    "Il y a deux façons principales de déterminer si une série temporelle donnée est stationnaire:\n",
    "\n",
    "* **A l'oeil nu :** La série temporelle est stationnaire si elle reste constante dans le temps \n",
    "\n",
    "* **Test de Dickey-Fuller augmenté (ADF) :**  La série temporelle est considérée comme stationnaire si la valeur p est faible (selon l’hypothèse nulle) et si les valeurs critiques à des intervalles de confiance de 1%, 5%, 10% sont aussi proches que possible des statistiques de l’ADF (Augmented Dickey-Fuller)"
   ]
  },
  {
   "cell_type": "code",
   "execution_count": null,
   "id": "b9a41a4b",
   "metadata": {},
   "outputs": [],
   "source": []
  },
  {
   "cell_type": "markdown",
   "id": "0fd24720",
   "metadata": {},
   "source": [
    "* La moyenne de la série ne doit pas être fonction du temps.\n",
    "Une série **n’est pas stationnaire si** la moyenne augmente avec le temps.\n",
    "\n",
    "* La variance de la série ne doit pas être une fonction du temps. \n",
    "Une série **n’est pas stationnaire si** la variance des données varient dans le temps."
   ]
  },
  {
   "cell_type": "code",
   "execution_count": null,
   "id": "32b75de1",
   "metadata": {},
   "outputs": [],
   "source": []
  },
  {
   "cell_type": "markdown",
   "id": "a337e7ee",
   "metadata": {},
   "source": [
    "Si une série temporelle **n'est pas stationnaire -->** \n",
    "\n",
    "* Prendre **le logarithme** de la variable dépendante est un moyen simple de réduire le taux d’augmentation de la moyenne mobile : df_log = np.log(df)\n",
    "\n",
    "* **Soustraire** la moyenne mobile : rolling_mean = df_log.rolling(window=12).mean() ;   df_log_minus_mean = df_log - rolling_mean"
   ]
  },
  {
   "cell_type": "code",
   "execution_count": null,
   "id": "c7a864e2",
   "metadata": {},
   "outputs": [],
   "source": []
  },
  {
   "cell_type": "markdown",
   "id": "3b2da50b",
   "metadata": {},
   "source": [
    "\n",
    "**Le processus AR signifie autorégressif.**\n",
    "\n",
    "Concrètement si l’on considère un processus stationnaire Xt , \n",
    "on considère qu’il est autorégressif d’ordre p si l’on peut expliquer \n",
    "sa valeur à l’instant t en utilisant ses p termes précédents.\n",
    "\n",
    "**---------------------------------------------------------------------------------------------------**\n",
    "\n",
    "**Le processus MA signifie ‘moving average’ ou en français moyenne mobile.**\n",
    "\n",
    "Soit Xt  une série temporelle, on considère que c’est un processus MA d’ordre p \n",
    "si on peut exprimer sa valeur à l’instant t comme une \n",
    "combinaison linéaire d’erreur aléatoires (bruit blanc)."
   ]
  },
  {
   "cell_type": "code",
   "execution_count": null,
   "id": "0d9b7070",
   "metadata": {},
   "outputs": [],
   "source": []
  },
  {
   "cell_type": "markdown",
   "id": "a13672c8",
   "metadata": {},
   "source": [
    "**---------------------------------------------------------------------------------------------------**\n",
    "\n",
    "**le modèle ARMA** est tout simplement une combinaison d’un processus AR et d’un processus MA. \n",
    "\n",
    "Cela permet de modéliser des séries temporelles plus complexes.\n",
    "\n",
    "Cependant l’une des limitations de ce modèle est qu’il ne peut modéliser que des séries temporelles **stationnaires.**\n"
   ]
  },
  {
   "cell_type": "code",
   "execution_count": null,
   "id": "d93e389a",
   "metadata": {},
   "outputs": [],
   "source": []
  },
  {
   "cell_type": "markdown",
   "id": "b7577943",
   "metadata": {},
   "source": [
    "Trois entiers **(p, d, q)** sont généralement utilisés pour paramétrer les modèles ARIMA :\n",
    "\n",
    "* p : nombre de termes autorégressifs (ordre AR)\n",
    "* d : nombre de différences non saisonnières (ordre de différenciation)\n",
    "* q : nombre de termes moyens mobiles (ordre MA)\n"
   ]
  },
  {
   "cell_type": "code",
   "execution_count": null,
   "id": "838436d3",
   "metadata": {},
   "outputs": [],
   "source": []
  },
  {
   "cell_type": "markdown",
   "id": "a934421a",
   "metadata": {},
   "source": [
    "**Le I du modèle ARIMA** signifie ‘integrated’ pour intégration.\n",
    "**Le modèle ARIMA** est une combinaison d'un processus de différenciation et du processus ARMA classique.\n",
    "\n",
    "* En différenciant les séries temporelles ( X(t)-X(t-1) ), il est possible de retirer les tendances qu’elles présentent pour les stationnariser.\n",
    "\n",
    "* Ainsi en différenciant la série une fois , la dépendance temporelle linéaire est éliminée et la différence est stationnaire.\n",
    "\n",
    "* De la même façon, une tendance quadratique peut être éliminée en différenciant la série deux fois.\n",
    "\n",
    "* Une fois la série stationnarisée, il est alors possible  d’appliquer le modèle ARMA.\n"
   ]
  },
  {
   "cell_type": "code",
   "execution_count": null,
   "id": "4f002aab",
   "metadata": {},
   "outputs": [],
   "source": []
  },
  {
   "cell_type": "markdown",
   "id": "8ae52447",
   "metadata": {},
   "source": [
    "Par ailleurs, si la série temporelle présente à la fois \n",
    "* une tendance et \n",
    "* une saisonnalité,\n",
    "\n",
    "il est possible d’utiliser **le modèle SARIMA** qui est un modèle ARIMA \n",
    "prenant aussi en compte une composante saisonnière."
   ]
  },
  {
   "cell_type": "markdown",
   "id": "11120f61",
   "metadata": {},
   "source": [
    "**la fonction SARIMAX** de la bibliothèque **statsmodels**, \n",
    "il est possible de prédire la série temporelle sur les N prochains mois. "
   ]
  },
  {
   "cell_type": "code",
   "execution_count": null,
   "id": "9438bde0",
   "metadata": {},
   "outputs": [],
   "source": []
  },
  {
   "cell_type": "markdown",
   "id": "53d566ff",
   "metadata": {},
   "source": [
    "Plus récemment **les réseaux de neurones** sont devenus de plus en plus utilisés pour la prédiction des séries temporelles car ils viennent corriger certains défauts des méthodes ‘classiques’ comme **l’ARIMA.**"
   ]
  },
  {
   "cell_type": "code",
   "execution_count": null,
   "id": "a5cd045a",
   "metadata": {},
   "outputs": [],
   "source": []
  }
 ],
 "metadata": {
  "kernelspec": {
   "display_name": "Python 3 (ipykernel)",
   "language": "python",
   "name": "python3"
  },
  "language_info": {
   "codemirror_mode": {
    "name": "ipython",
    "version": 3
   },
   "file_extension": ".py",
   "mimetype": "text/x-python",
   "name": "python",
   "nbconvert_exporter": "python",
   "pygments_lexer": "ipython3",
   "version": "3.8.6"
  },
  "toc": {
   "base_numbering": 1,
   "nav_menu": {},
   "number_sections": true,
   "sideBar": true,
   "skip_h1_title": false,
   "title_cell": "Table of Contents",
   "title_sidebar": "Contents",
   "toc_cell": false,
   "toc_position": {},
   "toc_section_display": true,
   "toc_window_display": false
  }
 },
 "nbformat": 4,
 "nbformat_minor": 5
}
